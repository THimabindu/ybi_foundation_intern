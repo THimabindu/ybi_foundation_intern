{
  "nbformat": 4,
  "nbformat_minor": 0,
  "metadata": {
    "colab": {
      "provenance": []
    },
    "kernelspec": {
      "name": "python3",
      "display_name": "Python 3"
    },
    "language_info": {
      "name": "python"
    }
  },
  "cells": [
    {
      "cell_type": "markdown",
      "source": [
        "# **Hand Written Digit Prediction - Classification Analysis**"
      ],
      "metadata": {
        "id": "7qy2XyzEE_1y"
      }
    },
    {
      "cell_type": "markdown",
      "source": [
        "The digits dataset consists of 8x8 pixel images of digits. The images attribute of the dataset stores 8x8 arrays of grayscale values for each image. We will use these arrays to visualize the first 4 images. The target attribute of the dataset stores the digit each image represents"
      ],
      "metadata": {
        "id": "1GqLtB59FBzX"
      }
    },
    {
      "cell_type": "markdown",
      "source": [
        "# **Import Library**"
      ],
      "metadata": {
        "id": "fp13VNj_F-Eh"
      }
    },
    {
      "cell_type": "code",
      "source": [
        "import pandas as pd"
      ],
      "metadata": {
        "id": "RT_h9jhVF_JL"
      },
      "execution_count": null,
      "outputs": []
    },
    {
      "cell_type": "code",
      "source": [
        "import numpy as np"
      ],
      "metadata": {
        "id": "wiv78BddGbUu"
      },
      "execution_count": null,
      "outputs": []
    },
    {
      "cell_type": "code",
      "source": [
        "import matplotlib.pyplot as plt"
      ],
      "metadata": {
        "id": "JJxz5coXGgjv"
      },
      "execution_count": null,
      "outputs": []
    },
    {
      "cell_type": "markdown",
      "source": [
        "# **Import Data**"
      ],
      "metadata": {
        "id": "Pq4A8PXkGzm8"
      }
    },
    {
      "cell_type": "code",
      "source": [
        "from sklearn.datasets import load_digits"
      ],
      "metadata": {
        "id": "uaMLaiTXG4_L"
      },
      "execution_count": null,
      "outputs": []
    },
    {
      "cell_type": "code",
      "source": [
        "df = load_digits()"
      ],
      "metadata": {
        "id": "s4IKg8SfHMNK"
      },
      "execution_count": null,
      "outputs": []
    },
    {
      "cell_type": "code",
      "source": [
        "_, axes = plt.subplots(nrows=1, ncols=4, figsize=(10, 3))\n",
        "\n",
        "for ax, image, label in zip(axes, df.images, df.target):\n",
        "    ax.set_axis_off()\n",
        "    ax.imshow(image, cmap=plt.cm.gray_r, interpolation=\"nearest\")\n",
        "    ax.set_title(\"Training: %i\" % label)"
      ],
      "metadata": {
        "colab": {
          "base_uri": "https://localhost:8080/",
          "height": 227
        },
        "id": "rMJFgUZCHU-1",
        "outputId": "cb9a41b1-ac35-4534-f2e5-50a074af9a39"
      },
      "execution_count": null,
      "outputs": [
        {
          "output_type": "display_data",
          "data": {
            "text/plain": [
              "<Figure size 1000x300 with 4 Axes>"
            ],
            "image/png": "[encoded data removed]"
          },
          "metadata": {}
        }
      ]
    },
    {
      "cell_type": "markdown",
      "source": [
        "# **Data Preprocessing**"
      ],
      "metadata": {
        "id": "9tb9jlwbIqDJ"
      }
    },
    {
      "cell_type": "markdown",
      "source": [
        "**Flatten** **Image**\n",
        "**8X8**"
      ],
      "metadata": {
        "id": "2Uh3voFwKpbV"
      }
    },
    {
      "cell_type": "markdown",
      "source": [
        "![WhatsApp Image 2024-07-01 at 12.52.19_d6d6874b.jpg](data:image/jpeg;base64,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)"
      ],
      "metadata": {
        "id": "y4gTSdpBLCTw"
      }
    },
    {
      "cell_type": "code",
      "source": [
        "df.images.shape"
      ],
      "metadata": {
        "colab": {
          "base_uri": "https://localhost:8080/"
        },
        "id": "AFgde41zLqZ9",
        "outputId": "e01da755-d001-4c57-fd17-119a29770734"
      },
      "execution_count": null,
      "outputs": [
        {
          "output_type": "execute_result",
          "data": {
            "text/plain": [
              "(1797, 8, 8)"
            ]
          },
          "metadata": {},
          "execution_count": 11
        }
      ]
    },
    {
      "cell_type": "code",
      "source": [
        "df.images[0]"
      ],
      "metadata": {
        "colab": {
          "base_uri": "https://localhost:8080/"
        },
        "id": "XI2ski5KL4zD",
        "outputId": "35ea230e-6d7f-4578-b0e0-4499c046797e"
      },
      "execution_count": null,
      "outputs": [
        {
          "output_type": "execute_result",
          "data": {
            "text/plain": [
              "array([[ 0.,  0.,  5., 13.,  9.,  1.,  0.,  0.],\n",
              "       [ 0.,  0., 13., 15., 10., 15.,  5.,  0.],\n",
              "       [ 0.,  3., 15.,  2.,  0., 11.,  8.,  0.],\n",
              "       [ 0.,  4., 12.,  0.,  0.,  8.,  8.,  0.],\n",
              "       [ 0.,  5.,  8.,  0.,  0.,  9.,  8.,  0.],\n",
              "       [ 0.,  4., 11.,  0.,  1., 12.,  7.,  0.],\n",
              "       [ 0.,  2., 14.,  5., 10., 12.,  0.,  0.],\n",
              "       [ 0.,  0.,  6., 13., 10.,  0.,  0.,  0.]])"
            ]
          },
          "metadata": {},
          "execution_count": 12
        }
      ]
    },
    {
      "cell_type": "code",
      "source": [
        "df.images[0].shape"
      ],
      "metadata": {
        "colab": {
          "base_uri": "https://localhost:8080/"
        },
        "id": "PvIt5CcvMCTl",
        "outputId": "a4787347-2feb-40ac-d057-4ef7f0f50711"
      },
      "execution_count": null,
      "outputs": [
        {
          "output_type": "execute_result",
          "data": {
            "text/plain": [
              "(8, 8)"
            ]
          },
          "metadata": {},
          "execution_count": 13
        }
      ]
    },
    {
      "cell_type": "code",
      "source": [
        "len(df.images)"
      ],
      "metadata": {
        "colab": {
          "base_uri": "https://localhost:8080/"
        },
        "id": "20YOahsoMJE0",
        "outputId": "1947084b-6b2c-4248-94cc-451563cc1924"
      },
      "execution_count": null,
      "outputs": [
        {
          "output_type": "execute_result",
          "data": {
            "text/plain": [
              "1797"
            ]
          },
          "metadata": {},
          "execution_count": 14
        }
      ]
    },
    {
      "cell_type": "code",
      "source": [
        "n_samples= len(df.images)\n",
        "data = df.images.reshape((n_samples,-1))"
      ],
      "metadata": {
        "id": "KOX_Cr02MRi8"
      },
      "execution_count": null,
      "outputs": []
    },
    {
      "cell_type": "code",
      "source": [
        "data[0]"
      ],
      "metadata": {
        "colab": {
          "base_uri": "https://localhost:8080/"
        },
        "id": "LKreBiNqMy7_",
        "outputId": "4ab4aebd-b255-4556-de3f-a777f03a6deb"
      },
      "execution_count": null,
      "outputs": [
        {
          "output_type": "execute_result",
          "data": {
            "text/plain": [
              "array([ 0.,  0.,  5., 13.,  9.,  1.,  0.,  0.,  0.,  0., 13., 15., 10.,\n",
              "       15.,  5.,  0.,  0.,  3., 15.,  2.,  0., 11.,  8.,  0.,  0.,  4.,\n",
              "       12.,  0.,  0.,  8.,  8.,  0.,  0.,  5.,  8.,  0.,  0.,  9.,  8.,\n",
              "        0.,  0.,  4., 11.,  0.,  1., 12.,  7.,  0.,  0.,  2., 14.,  5.,\n",
              "       10., 12.,  0.,  0.,  0.,  0.,  6., 13., 10.,  0.,  0.,  0.])"
            ]
          },
          "metadata": {},
          "execution_count": 18
        }
      ]
    },
    {
      "cell_type": "code",
      "source": [
        "data[0].shape"
      ],
      "metadata": {
        "colab": {
          "base_uri": "https://localhost:8080/"
        },
        "id": "HP8sMCsVM3NG",
        "outputId": "a512829c-c601-485f-8e06-0f6258cd68b1"
      },
      "execution_count": null,
      "outputs": [
        {
          "output_type": "execute_result",
          "data": {
            "text/plain": [
              "(64,)"
            ]
          },
          "metadata": {},
          "execution_count": 19
        }
      ]
    },
    {
      "cell_type": "code",
      "source": [
        "data.shape"
      ],
      "metadata": {
        "colab": {
          "base_uri": "https://localhost:8080/"
        },
        "id": "vgRrEQSwM_Oc",
        "outputId": "b6249693-8d8c-48f7-fe98-21585248c537"
      },
      "execution_count": null,
      "outputs": [
        {
          "output_type": "execute_result",
          "data": {
            "text/plain": [
              "(1797, 64)"
            ]
          },
          "metadata": {},
          "execution_count": 20
        }
      ]
    },
    {
      "cell_type": "markdown",
      "source": [
        "# **Scaling Image Data**"
      ],
      "metadata": {
        "id": "7jXyCWL-NHlw"
      }
    },
    {
      "cell_type": "code",
      "source": [
        "data.min()"
      ],
      "metadata": {
        "colab": {
          "base_uri": "https://localhost:8080/"
        },
        "id": "7-jaO4SINM3n",
        "outputId": "4c7a16a1-9453-4441-c3b2-5cea75f78908"
      },
      "execution_count": null,
      "outputs": [
        {
          "output_type": "execute_result",
          "data": {
            "text/plain": [
              "0.0"
            ]
          },
          "metadata": {},
          "execution_count": 21
        }
      ]
    },
    {
      "cell_type": "code",
      "source": [
        "data.max()"
      ],
      "metadata": {
        "colab": {
          "base_uri": "https://localhost:8080/"
        },
        "id": "baskJBeTNVX1",
        "outputId": "afecd1a6-a714-4a9b-9636-4c1c1f604239"
      },
      "execution_count": null,
      "outputs": [
        {
          "output_type": "execute_result",
          "data": {
            "text/plain": [
              "16.0"
            ]
          },
          "metadata": {},
          "execution_count": 22
        }
      ]
    },
    {
      "cell_type": "code",
      "source": [
        "data = data/16"
      ],
      "metadata": {
        "id": "7W-DzQycNdV4"
      },
      "execution_count": null,
      "outputs": []
    },
    {
      "cell_type": "code",
      "source": [
        "data.min()"
      ],
      "metadata": {
        "colab": {
          "base_uri": "https://localhost:8080/"
        },
        "id": "DICxUrY6NhEJ",
        "outputId": "755efaca-9dea-4ca1-c300-c9295d7dd8fb"
      },
      "execution_count": null,
      "outputs": [
        {
          "output_type": "execute_result",
          "data": {
            "text/plain": [
              "0.0"
            ]
          },
          "metadata": {},
          "execution_count": 24
        }
      ]
    },
    {
      "cell_type": "code",
      "source": [
        "data.max()"
      ],
      "metadata": {
        "colab": {
          "base_uri": "https://localhost:8080/"
        },
        "id": "yeunBbaLNwQR",
        "outputId": "ca080fa3-55c2-4626-b3e4-94c9d4a6e957"
      },
      "execution_count": null,
      "outputs": [
        {
          "output_type": "execute_result",
          "data": {
            "text/plain": [
              "1.0"
            ]
          },
          "metadata": {},
          "execution_count": 25
        }
      ]
    },
    {
      "cell_type": "code",
      "source": [
        "data[0]"
      ],
      "metadata": {
        "colab": {
          "base_uri": "https://localhost:8080/"
        },
        "id": "RZfg4WqHN5R-",
        "outputId": "525a95b6-8897-453b-f499-99b53570c9d5"
      },
      "execution_count": null,
      "outputs": [
        {
          "output_type": "execute_result",
          "data": {
            "text/plain": [
              "array([0.    , 0.    , 0.3125, 0.8125, 0.5625, 0.0625, 0.    , 0.    ,\n",
              "       0.    , 0.    , 0.8125, 0.9375, 0.625 , 0.9375, 0.3125, 0.    ,\n",
              "       0.    , 0.1875, 0.9375, 0.125 , 0.    , 0.6875, 0.5   , 0.    ,\n",
              "       0.    , 0.25  , 0.75  , 0.    , 0.    , 0.5   , 0.5   , 0.    ,\n",
              "       0.    , 0.3125, 0.5   , 0.    , 0.    , 0.5625, 0.5   , 0.    ,\n",
              "       0.    , 0.25  , 0.6875, 0.    , 0.0625, 0.75  , 0.4375, 0.    ,\n",
              "       0.    , 0.125 , 0.875 , 0.3125, 0.625 , 0.75  , 0.    , 0.    ,\n",
              "       0.    , 0.    , 0.375 , 0.8125, 0.625 , 0.    , 0.    , 0.    ])"
            ]
          },
          "metadata": {},
          "execution_count": 26
        }
      ]
    },
    {
      "cell_type": "markdown",
      "source": [
        "# **Train Test Split Data**"
      ],
      "metadata": {
        "id": "OZv4L4m4OBN6"
      }
    },
    {
      "cell_type": "code",
      "source": [
        "from sklearn.model_selection import train_test_split"
      ],
      "metadata": {
        "id": "RE99hl12OH_t"
      },
      "execution_count": null,
      "outputs": []
    },
    {
      "cell_type": "code",
      "source": [
        "x_train,x_test,y_train,y_test = train_test_split(data,df.target,test_size=0.3)"
      ],
      "metadata": {
        "id": "KGsUCFcSOeEP"
      },
      "execution_count": null,
      "outputs": []
    },
    {
      "cell_type": "code",
      "source": [
        "x_train.shape,x_test.shape,y_train.shape,y_test.shape"
      ],
      "metadata": {
        "colab": {
          "base_uri": "https://localhost:8080/"
        },
        "id": "4YXSI2XFPy3B",
        "outputId": "74435f5a-b32e-46c4-8ab8-24afa4c2622d"
      },
      "execution_count": null,
      "outputs": [
        {
          "output_type": "execute_result",
          "data": {
            "text/plain": [
              "((1257, 64), (540, 64), (1257,), (540,))"
            ]
          },
          "metadata": {},
          "execution_count": 30
        }
      ]
    },
    {
      "cell_type": "markdown",
      "source": [
        "# **Random Forest Model**"
      ],
      "metadata": {
        "id": "IPcPov3EQEBN"
      }
    },
    {
      "cell_type": "code",
      "source": [
        "from sklearn.ensemble import RandomForestClassifier"
      ],
      "metadata": {
        "id": "Jsi27c6HQLnN"
      },
      "execution_count": null,
      "outputs": []
    },
    {
      "cell_type": "code",
      "source": [
        "rf = RandomForestClassifier()"
      ],
      "metadata": {
        "id": "xXcwS9JDQTJ7"
      },
      "execution_count": null,
      "outputs": []
    },
    {
      "cell_type": "code",
      "source": [
        "rf.fit(x_train,y_train)"
      ],
      "metadata": {
        "colab": {
          "base_uri": "https://localhost:8080/",
          "height": 74
        },
        "id": "znsdIgSdQa_0",
        "outputId": "723b7299-808d-4ec7-8533-a7c10b6c02cc"
      },
      "execution_count": null,
      "outputs": [
        {
          "output_type": "execute_result",
          "data": {
            "text/plain": [
              "RandomForestClassifier()"
            ],
            "text/html": [
              "<style>#sk-container-id-2 {color: black;background-color: white;}#sk-container-id-2 pre{padding: 0;}#sk-container-id-2 div.sk-toggleable {background-color: white;}#sk-container-id-2 label.sk-toggleable__label {cursor: pointer;display: block;width: 100%;margin-bottom: 0;padding: 0.3em;box-sizing: border-box;text-align: center;}#sk-container-id-2 label.sk-toggleable__label-arrow:before {content: \"▸\";float: left;margin-right: 0.25em;color: #696969;}#sk-container-id-2 label.sk-toggleable__label-arrow:hover:before {color: black;}#sk-container-id-2 div.sk-estimator:hover label.sk-toggleable__label-arrow:before {color: black;}#sk-container-id-2 div.sk-toggleable__content {max-height: 0;max-width: 0;overflow: hidden;text-align: left;background-color: #f0f8ff;}#sk-container-id-2 div.sk-toggleable__content pre {margin: 0.2em;color: black;border-radius: 0.25em;background-color: #f0f8ff;}#sk-container-id-2 input.sk-toggleable__control:checked~div.sk-toggleable__content {max-height: 200px;max-width: 100%;overflow: auto;}#sk-container-id-2 input.sk-toggleable__control:checked~label.sk-toggleable__label-arrow:before {content: \"▾\";}#sk-container-id-2 div.sk-estimator input.sk-toggleable__control:checked~label.sk-toggleable__label {background-color: #d4ebff;}#sk-container-id-2 div.sk-label input.sk-toggleable__control:checked~label.sk-toggleable__label {background-color: #d4ebff;}#sk-container-id-2 input.sk-hidden--visually {border: 0;clip: rect(1px 1px 1px 1px);clip: rect(1px, 1px, 1px, 1px);height: 1px;margin: -1px;overflow: hidden;padding: 0;position: absolute;width: 1px;}#sk-container-id-2 div.sk-estimator {font-family: monospace;background-color: #f0f8ff;border: 1px dotted black;border-radius: 0.25em;box-sizing: border-box;margin-bottom: 0.5em;}#sk-container-id-2 div.sk-estimator:hover {background-color: #d4ebff;}#sk-container-id-2 div.sk-parallel-item::after {content: \"\";width: 100%;border-bottom: 1px solid gray;flex-grow: 1;}#sk-container-id-2 div.sk-label:hover label.sk-toggleable__label {background-color: #d4ebff;}#sk-container-id-2 div.sk-serial::before {content: \"\";position: absolute;border-left: 1px solid gray;box-sizing: border-box;top: 0;bottom: 0;left: 50%;z-index: 0;}#sk-container-id-2 div.sk-serial {display: flex;flex-direction: column;align-items: center;background-color: white;padding-right: 0.2em;padding-left: 0.2em;position: relative;}#sk-container-id-2 div.sk-item {position: relative;z-index: 1;}#sk-container-id-2 div.sk-parallel {display: flex;align-items: stretch;justify-content: center;background-color: white;position: relative;}#sk-container-id-2 div.sk-item::before, #sk-container-id-2 div.sk-parallel-item::before {content: \"\";position: absolute;border-left: 1px solid gray;box-sizing: border-box;top: 0;bottom: 0;left: 50%;z-index: -1;}#sk-container-id-2 div.sk-parallel-item {display: flex;flex-direction: column;z-index: 1;position: relative;background-color: white;}#sk-container-id-2 div.sk-parallel-item:first-child::after {align-self: flex-end;width: 50%;}#sk-container-id-2 div.sk-parallel-item:last-child::after {align-self: flex-start;width: 50%;}#sk-container-id-2 div.sk-parallel-item:only-child::after {width: 0;}#sk-container-id-2 div.sk-dashed-wrapped {border: 1px dashed gray;margin: 0 0.4em 0.5em 0.4em;box-sizing: border-box;padding-bottom: 0.4em;background-color: white;}#sk-container-id-2 div.sk-label label {font-family: monospace;font-weight: bold;display: inline-block;line-height: 1.2em;}#sk-container-id-2 div.sk-label-container {text-align: center;}#sk-container-id-2 div.sk-container {/* jupyter's `normalize.less` sets `[hidden] { display: none; }` but bootstrap.min.css set `[hidden] { display: none !important; }` so we also need the `!important` here to be able to override the default hidden behavior on the sphinx rendered scikit-learn.org. See: https://github.com/scikit-learn/scikit-learn/issues/21755 */display: inline-block !important;position: relative;}#sk-container-id-2 div.sk-text-repr-fallback {display: none;}</style><div id=\"sk-container-id-2\" class=\"sk-top-container\"><div class=\"sk-text-repr-fallback\"><pre>RandomForestClassifier()</pre><b>In a Jupyter environment, please rerun this cell to show the HTML representation or trust the notebook. <br />On GitHub, the HTML representation is unable to render, please try loading this page with nbviewer.org.</b></div><div class=\"sk-container\" hidden><div class=\"sk-item\"><div class=\"sk-estimator sk-toggleable\"><input class=\"sk-toggleable__control sk-hidden--visually\" id=\"sk-estimator-id-2\" type=\"checkbox\" checked><label for=\"sk-estimator-id-2\" class=\"sk-toggleable__label sk-toggleable__label-arrow\">RandomForestClassifier</label><div class=\"sk-toggleable__content\"><pre>RandomForestClassifier()</pre></div></div></div></div></div>"
            ]
          },
          "metadata": {},
          "execution_count": 34
        }
      ]
    },
    {
      "cell_type": "markdown",
      "source": [
        "# **Predict Test Data**"
      ],
      "metadata": {
        "id": "3NI63vJYXg5w"
      }
    },
    {
      "cell_type": "code",
      "source": [
        "y_pred = rf.predict(x_test)"
      ],
      "metadata": {
        "id": "V0sSsNUWXlq3"
      },
      "execution_count": null,
      "outputs": []
    },
    {
      "cell_type": "code",
      "source": [
        "y_pred"
      ],
      "metadata": {
        "colab": {
          "base_uri": "https://localhost:8080/"
        },
        "id": "CJRaMkenXwGi",
        "outputId": "5767adb1-42f5-4334-e0a7-6ff9445333c6"
      },
      "execution_count": null,
      "outputs": [
        {
          "output_type": "execute_result",
          "data": {
            "text/plain": [
              "array([0, 5, 4, 0, 4, 2, 8, 5, 1, 5, 9, 8, 5, 4, 9, 9, 5, 4, 5, 5, 5, 6,\n",
              "       8, 9, 6, 6, 5, 9, 0, 8, 4, 4, 1, 9, 1, 9, 7, 8, 2, 7, 9, 4, 2, 7,\n",
              "       0, 0, 2, 0, 2, 4, 2, 6, 4, 0, 4, 7, 8, 5, 8, 7, 4, 2, 2, 1, 1, 8,\n",
              "       3, 4, 6, 0, 8, 3, 7, 1, 3, 4, 5, 1, 7, 4, 2, 0, 7, 3, 3, 0, 8, 0,\n",
              "       3, 1, 6, 8, 5, 7, 1, 1, 6, 5, 5, 3, 4, 1, 2, 2, 3, 4, 1, 2, 4, 1,\n",
              "       2, 0, 6, 5, 0, 5, 2, 6, 1, 7, 9, 6, 6, 9, 5, 6, 6, 2, 7, 4, 5, 0,\n",
              "       0, 7, 6, 8, 2, 8, 0, 1, 4, 1, 8, 3, 5, 0, 0, 1, 2, 2, 9, 1, 5, 8,\n",
              "       6, 6, 0, 7, 9, 4, 2, 9, 4, 2, 0, 2, 7, 8, 3, 7, 9, 2, 5, 3, 9, 3,\n",
              "       1, 8, 1, 8, 1, 4, 4, 6, 7, 6, 2, 2, 8, 9, 1, 9, 0, 6, 2, 7, 1, 4,\n",
              "       0, 3, 8, 8, 6, 9, 6, 3, 6, 8, 2, 3, 7, 1, 1, 1, 5, 7, 4, 1, 7, 1,\n",
              "       3, 3, 8, 2, 7, 2, 5, 8, 3, 2, 5, 4, 9, 7, 2, 8, 8, 5, 3, 2, 9, 7,\n",
              "       1, 8, 7, 7, 2, 3, 9, 4, 0, 1, 4, 1, 0, 5, 7, 7, 1, 7, 7, 7, 1, 4,\n",
              "       5, 9, 1, 8, 3, 6, 3, 5, 9, 9, 9, 7, 3, 5, 6, 4, 0, 8, 8, 8, 9, 8,\n",
              "       4, 3, 3, 0, 1, 0, 7, 8, 4, 2, 2, 1, 3, 8, 5, 5, 0, 6, 0, 5, 0, 0,\n",
              "       3, 0, 8, 4, 9, 4, 0, 6, 5, 2, 7, 8, 8, 1, 5, 1, 2, 7, 9, 9, 7, 6,\n",
              "       6, 4, 9, 4, 2, 1, 1, 0, 7, 1, 1, 4, 0, 2, 9, 6, 2, 8, 2, 1, 6, 9,\n",
              "       7, 3, 2, 0, 8, 7, 8, 4, 7, 8, 7, 5, 3, 7, 9, 3, 6, 4, 6, 7, 2, 0,\n",
              "       9, 7, 4, 2, 9, 8, 6, 9, 8, 3, 1, 3, 8, 6, 8, 3, 4, 4, 4, 0, 1, 2,\n",
              "       1, 9, 0, 6, 7, 9, 3, 3, 8, 0, 5, 7, 0, 3, 1, 5, 1, 3, 3, 2, 8, 8,\n",
              "       0, 2, 5, 6, 7, 9, 1, 9, 2, 3, 5, 3, 4, 3, 9, 7, 4, 8, 2, 2, 3, 2,\n",
              "       8, 7, 0, 2, 5, 4, 4, 8, 1, 1, 5, 9, 3, 3, 5, 9, 9, 9, 6, 2, 2, 2,\n",
              "       5, 9, 7, 6, 9, 9, 4, 6, 3, 9, 1, 2, 3, 8, 3, 0, 7, 5, 8, 4, 3, 7,\n",
              "       7, 5, 0, 0, 5, 8, 7, 2, 6, 5, 6, 4, 7, 1, 8, 2, 7, 3, 9, 9, 4, 2,\n",
              "       4, 7, 8, 3, 7, 6, 9, 0, 2, 5, 2, 6, 0, 9, 4, 4, 5, 6, 1, 6, 2, 6,\n",
              "       8, 3, 6, 0, 5, 9, 3, 1, 1, 4, 5, 8])"
            ]
          },
          "metadata": {},
          "execution_count": 36
        }
      ]
    },
    {
      "cell_type": "markdown",
      "source": [
        "# **Model Accuracy**"
      ],
      "metadata": {
        "id": "lZa0dgLfYD7E"
      }
    },
    {
      "cell_type": "code",
      "source": [
        "from sklearn.metrics import confusion_matrix,classification_report"
      ],
      "metadata": {
        "id": "EXV7tfN2YJQQ"
      },
      "execution_count": null,
      "outputs": []
    },
    {
      "cell_type": "code",
      "source": [
        "confusion_matrix(y_test,y_pred)"
      ],
      "metadata": {
        "colab": {
          "base_uri": "https://localhost:8080/"
        },
        "id": "DsZQgwIiYXUL",
        "outputId": "3d7bcb50-ae85-4324-a9c0-e62d4776889e"
      },
      "execution_count": null,
      "outputs": [
        {
          "output_type": "execute_result",
          "data": {
            "text/plain": [
              "array([[48,  0,  0,  0,  0,  0,  0,  0,  0,  0],\n",
              "       [ 0, 55,  0,  0,  0,  0,  0,  0,  0,  0],\n",
              "       [ 0,  0, 60,  0,  0,  0,  0,  0,  0,  0],\n",
              "       [ 0,  0,  0, 50,  0,  1,  0,  0,  0,  1],\n",
              "       [ 0,  0,  0,  0, 55,  0,  0,  2,  0,  0],\n",
              "       [ 0,  0,  0,  0,  0, 50,  0,  0,  0,  2],\n",
              "       [ 1,  0,  0,  0,  0,  0, 47,  0,  0,  0],\n",
              "       [ 0,  0,  0,  0,  0,  0,  0, 54,  0,  0],\n",
              "       [ 0,  1,  1,  0,  0,  0,  0,  0, 57,  0],\n",
              "       [ 0,  0,  0,  2,  0,  0,  0,  1,  1, 51]])"
            ]
          },
          "metadata": {},
          "execution_count": 38
        }
      ]
    },
    {
      "cell_type": "code",
      "source": [
        "print(classification_report(y_test,y_pred))"
      ],
      "metadata": {
        "colab": {
          "base_uri": "https://localhost:8080/"
        },
        "id": "nilVuu8FYmRa",
        "outputId": "06b6ced9-2bd1-496b-b5f3-6e45fe78da54"
      },
      "execution_count": null,
      "outputs": [
        {
          "output_type": "stream",
          "name": "stdout",
          "text": [
            "              precision    recall  f1-score   support\n",
            "\n",
            "           0       0.98      1.00      0.99        48\n",
            "           1       0.98      1.00      0.99        55\n",
            "           2       0.98      1.00      0.99        60\n",
            "           3       0.96      0.96      0.96        52\n",
            "           4       1.00      0.96      0.98        57\n",
            "           5       0.98      0.96      0.97        52\n",
            "           6       1.00      0.98      0.99        48\n",
            "           7       0.95      1.00      0.97        54\n",
            "           8       0.98      0.97      0.97        59\n",
            "           9       0.94      0.93      0.94        55\n",
            "\n",
            "    accuracy                           0.98       540\n",
            "   macro avg       0.98      0.98      0.98       540\n",
            "weighted avg       0.98      0.98      0.98       540\n",
            "\n"
          ]
        }
      ]
    }
  ]
}